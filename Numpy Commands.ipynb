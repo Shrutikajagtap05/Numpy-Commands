{
 "cells": [
  {
   "cell_type": "markdown",
   "id": "1e354a2d-9632-46ef-ac05-9a663acf5f32",
   "metadata": {},
   "source": [
    "# Numpy Commands"
   ]
  },
  {
   "cell_type": "code",
   "execution_count": 2,
   "id": "0a5a2647-d553-4fc6-b39f-1d2cdef2fb9f",
   "metadata": {},
   "outputs": [],
   "source": [
    "import numpy as np"
   ]
  },
  {
   "cell_type": "code",
   "execution_count": 3,
   "id": "70a6147e-49eb-420a-aa33-6844271c770f",
   "metadata": {},
   "outputs": [
    {
     "name": "stdout",
     "output_type": "stream",
     "text": [
      "[1 2 3 4 5]\n"
     ]
    }
   ],
   "source": [
    "# Creating a NumPy array from a list\n",
    "arr = np.array([1, 2, 3, 4, 5])\n",
    "print(arr)"
   ]
  },
  {
   "cell_type": "code",
   "execution_count": 4,
   "id": "c70e1c21-2cfc-443b-9fae-f8037e891290",
   "metadata": {},
   "outputs": [
    {
     "name": "stdout",
     "output_type": "stream",
     "text": [
      "[[1 2 3]\n",
      " [4 5 6]\n",
      " [7 8 9]]\n"
     ]
    }
   ],
   "source": [
    "# Creating a 2D array\n",
    "matrix = np.array([[1, 2, 3], [4, 5, 6], [7, 8, 9]])\n",
    "print(matrix)"
   ]
  },
  {
   "cell_type": "code",
   "execution_count": 5,
   "id": "0bb50e5e-59db-4a03-b3cd-1cf9f385314a",
   "metadata": {},
   "outputs": [
    {
     "name": "stdout",
     "output_type": "stream",
     "text": [
      "[0 2 4 6 8]\n"
     ]
    }
   ],
   "source": [
    "# Generating a range of numbers\n",
    "range_arr = np.arange(0, 10, 2)\n",
    "print(range_arr)\n"
   ]
  },
  {
   "cell_type": "code",
   "execution_count": 6,
   "id": "b1851dd4-01d3-414e-8663-05723084ee34",
   "metadata": {},
   "outputs": [],
   "source": [
    "# Creating array object\n",
    "arr = np.array( [[ 1, 2, 3],[ 4, 5, 6]] )"
   ]
  },
  {
   "cell_type": "code",
   "execution_count": 7,
   "id": "e618d5b6-271d-45f1-a958-c75bad1e5c2f",
   "metadata": {},
   "outputs": [
    {
     "name": "stdout",
     "output_type": "stream",
     "text": [
      "Array is of type:  <class 'numpy.ndarray'>\n"
     ]
    }
   ],
   "source": [
    "# Printing type of arr object\n",
    "print(\"Array is of type: \", type(arr))"
   ]
  },
  {
   "cell_type": "code",
   "execution_count": 8,
   "id": "876a5994-3eea-46ae-9118-a3371a358e7d",
   "metadata": {},
   "outputs": [
    {
     "name": "stdout",
     "output_type": "stream",
     "text": [
      "No. of dimensions:  2\n"
     ]
    }
   ],
   "source": [
    "# Printing array dimensions (axes)\n",
    "print(\"No. of dimensions: \", arr.ndim)"
   ]
  },
  {
   "cell_type": "code",
   "execution_count": 9,
   "id": "d3703800-e5e6-40f5-8e3c-bd9cc6cb64e3",
   "metadata": {},
   "outputs": [
    {
     "name": "stdout",
     "output_type": "stream",
     "text": [
      "Shape of array:  (2, 3)\n"
     ]
    }
   ],
   "source": [
    "# Printing shape of array\n",
    "print(\"Shape of array: \", arr.shape)"
   ]
  },
  {
   "cell_type": "code",
   "execution_count": 10,
   "id": "9b7c3c6d-a54c-4e15-a5b7-6780969ce4e0",
   "metadata": {},
   "outputs": [
    {
     "name": "stdout",
     "output_type": "stream",
     "text": [
      "Size of array:  6\n"
     ]
    }
   ],
   "source": [
    "# Printing size (total number of elements) of array\n",
    "print(\"Size of array: \", arr.size)"
   ]
  },
  {
   "cell_type": "code",
   "execution_count": 11,
   "id": "926b8b44-7b29-42f5-956e-c1fb18786b63",
   "metadata": {},
   "outputs": [
    {
     "name": "stdout",
     "output_type": "stream",
     "text": [
      "Array stores elements of type:  int32\n"
     ]
    }
   ],
   "source": [
    "# Printing type of elements in array\n",
    "print(\"Array stores elements of type: \", arr.dtype)"
   ]
  },
  {
   "cell_type": "code",
   "execution_count": 12,
   "id": "82d0c1b9-8a20-4ecb-a950-3dc084b7f4af",
   "metadata": {},
   "outputs": [
    {
     "name": "stdout",
     "output_type": "stream",
     "text": [
      "[[0. 0. 0.]\n",
      " [0. 0. 0.]]\n"
     ]
    }
   ],
   "source": [
    "# Creating a 2X3 array with all zeros\n",
    "zeros_arr = np.zeros((2, 3))\n",
    "print(zeros_arr)"
   ]
  },
  {
   "cell_type": "code",
   "execution_count": 13,
   "id": "a451b582-897e-4404-b45a-19db0183a923",
   "metadata": {},
   "outputs": [
    {
     "name": "stdout",
     "output_type": "stream",
     "text": [
      "A random array:\n",
      " [[0.03593743 0.90427346 0.43620575]\n",
      " [0.6492901  0.08996471 0.68654954]\n",
      " [0.04548113 0.55802698 0.86017667]]\n",
      "[[2 2 5]\n",
      " [6 8 8]]\n"
     ]
    }
   ],
   "source": [
    "# Create an array with random values\n",
    "e = np.random.random((3, 3))\n",
    "print (\"A random array:\\n\", e)\n",
    "print(np.random.randint(1, 10, (2, 3))) # 2x3 array of random integers from 1 to 10"
   ]
  },
  {
   "cell_type": "code",
   "execution_count": null,
   "id": "4f3112ba-c9c1-48dd-a86b-edce4d267b20",
   "metadata": {},
   "outputs": [],
   "source": [
    "# Create a constant value array of float type\n",
    "con_v = np.full((3, 3), 6,dtype='float')\n",
    "print(con_v)"
   ]
  }
 ],
 "metadata": {
  "kernelspec": {
   "display_name": "Python 3 (ipykernel)",
   "language": "python",
   "name": "python3"
  },
  "language_info": {
   "codemirror_mode": {
    "name": "ipython",
    "version": 3
   },
   "file_extension": ".py",
   "mimetype": "text/x-python",
   "name": "python",
   "nbconvert_exporter": "python",
   "pygments_lexer": "ipython3",
   "version": "3.11.7"
  }
 },
 "nbformat": 4,
 "nbformat_minor": 5
}
